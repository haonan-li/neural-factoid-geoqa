{
 "cells": [
  {
   "cell_type": "code",
   "execution_count": 20,
   "metadata": {},
   "outputs": [],
   "source": [
    "def evaluate_single(file_name):\n",
    "    with open(file_name) as f:\n",
    "        data = f.readlines()\n",
    "    labels = list(filter(lambda x: x.startswith('Correctness'), data))\n",
    "    labels = list(map(lambda x: x.split(':')[1].split()[0], labels))\n",
    "    return labels"
   ]
  },
  {
   "cell_type": "code",
   "execution_count": 22,
   "metadata": {},
   "outputs": [],
   "source": [
    "a1 = evaluate_single('evaluation_ehsan.txt')\n",
    "a2 = evaluate_single('evaluation_ivan.txt')[100:]\n",
    "a3 = evaluate_single('evaluation_huahua.txt')[100:]"
   ]
  },
  {
   "cell_type": "code",
   "execution_count": 28,
   "metadata": {},
   "outputs": [],
   "source": [
    "vote = list(map(lambda x: int(x[0])+int(x[1])+int(x[2])>=2, zip(a1,a2,a3)))"
   ]
  },
  {
   "cell_type": "code",
   "execution_count": 30,
   "metadata": {},
   "outputs": [
    {
     "data": {
      "text/plain": [
       "71"
      ]
     },
     "execution_count": 30,
     "metadata": {},
     "output_type": "execute_result"
    }
   ],
   "source": [
    "with open('vote.txt') as f:\n",
    "    f.write(vote)"
   ]
  },
  {
   "cell_type": "code",
   "execution_count": null,
   "metadata": {},
   "outputs": [],
   "source": []
  }
 ],
 "metadata": {
  "kernelspec": {
   "display_name": "Python [conda env:geonlp]",
   "language": "python",
   "name": "conda-env-geonlp-py"
  },
  "language_info": {
   "codemirror_mode": {
    "name": "ipython",
    "version": 3
   },
   "file_extension": ".py",
   "mimetype": "text/x-python",
   "name": "python",
   "nbconvert_exporter": "python",
   "pygments_lexer": "ipython3",
   "version": "3.6.7"
  }
 },
 "nbformat": 4,
 "nbformat_minor": 2
}
