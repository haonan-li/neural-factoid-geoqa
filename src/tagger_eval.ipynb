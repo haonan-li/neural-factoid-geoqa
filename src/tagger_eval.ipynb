{
 "cells": [
  {
   "cell_type": "code",
   "execution_count": 47,
   "metadata": {},
   "outputs": [
    {
     "name": "stdout",
     "output_type": "stream",
     "text": [
      "200\n",
      "200\n"
     ]
    }
   ],
   "source": [
    "import json\n",
    "\n",
    "# gold = json.load(open('../data/gold_label.json'))\n",
    "# gold = list(map(lambda x: x['code'],gold))\n",
    "# pred = json.load(open(f'../data/result/agile-tag.json'))\n",
    "\n",
    "gold = []\n",
    "pred = []\n",
    "for i in range(5):\n",
    "    with open(f'../data/cross/test{i}.json') as f:\n",
    "        data = f.readlines()\n",
    "        gold += list(map(lambda x: json.loads(x)['labels'], data))\n",
    "    with open(f'../data/result/bert/{i}/predictions.txt') as f:\n",
    "        data = f.read().strip().split('\\n')\n",
    "        pred += list(map(lambda x: list(map(lambda x: int(x),x.split())), data))\n",
    "    assert len(gold) == len(pred)\n",
    "\n",
    "print(len(gold))\n",
    "print(len(pred))"
   ]
  },
  {
   "cell_type": "code",
   "execution_count": 48,
   "metadata": {},
   "outputs": [
    {
     "name": "stdout",
     "output_type": "stream",
     "text": [
      "0.345\n"
     ]
    }
   ],
   "source": [
    "# sentence-level\n",
    "total = len(gold)\n",
    "correct = 0\n",
    "for g,p in zip(gold,pred):\n",
    "    if g==p:\n",
    "        correct += 1\n",
    "print (correct/total)"
   ]
  },
  {
   "cell_type": "code",
   "execution_count": 49,
   "metadata": {},
   "outputs": [
    {
     "name": "stdout",
     "output_type": "stream",
     "text": [
      "1802\n",
      "0.7880133185349611\n"
     ]
    }
   ],
   "source": [
    "# token-level\n",
    "total = 0\n",
    "correct = 0\n",
    "for g,p in zip(gold,pred):\n",
    "    for gg,pp in zip(g,p):\n",
    "        total += 1\n",
    "        correct += gg==pp\n",
    "print (total)\n",
    "print (correct/total)"
   ]
  },
  {
   "cell_type": "code",
   "execution_count": 52,
   "metadata": {},
   "outputs": [
    {
     "name": "stdout",
     "output_type": "stream",
     "text": [
      "0.7880133185349611 0.7880133185349611 0.7880133185349611\n"
     ]
    }
   ],
   "source": [
    "# node-level\n",
    "def get_node(sent_id,g):\n",
    "    node = []\n",
    "    for idx in range(len(g)):\n",
    "        if g[idx] != 13 and g[idx] != 1:\n",
    "            for k in range(idx+1,len(g)):\n",
    "                if g[k] != 13:\n",
    "                    break\n",
    "            node.append((sent_id, idx,k,g[idx]))\n",
    "    return node\n",
    "\n",
    "g_node, p_node = [],[]\n",
    "for idx,(g,p) in enumerate(zip(gold,pred)):\n",
    "    g_node += get_node(idx,g)\n",
    "    p_node += get_node(idx,p)\n",
    "    \n",
    "g_node,p_node = set(g_node),set(p_node)\n",
    "precision = len(g_node.intersection(p_node)) / len(p_node)\n",
    "recall = len(g_node.intersection(p_node)) / len(g_node)\n",
    "f1 = 2*precision*recall/(precision+recall)\n",
    "print (precision, recall, f1)"
   ]
  }
 ],
 "metadata": {
  "kernelspec": {
   "display_name": "Python 3",
   "language": "python",
   "name": "python3"
  },
  "language_info": {
   "codemirror_mode": {
    "name": "ipython",
    "version": 3
   },
   "file_extension": ".py",
   "mimetype": "text/x-python",
   "name": "python",
   "nbconvert_exporter": "python",
   "pygments_lexer": "ipython3",
   "version": "3.7.2"
  }
 },
 "nbformat": 4,
 "nbformat_minor": 2
}
